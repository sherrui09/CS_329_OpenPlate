{
  "nbformat": 4,
  "nbformat_minor": 0,
  "metadata": {
    "colab": {
      "provenance": []
    },
    "kernelspec": {
      "name": "python3",
      "display_name": "Python 3"
    },
    "language_info": {
      "name": "python"
    }
  },
  "cells": [
    {
      "cell_type": "code",
      "execution_count": 1,
      "metadata": {
        "colab": {
          "base_uri": "https://localhost:8080/"
        },
        "id": "IEP1LTsnjf_X",
        "outputId": "cdac55ab-a7b7-4aee-d776-62336761ecf6"
      },
      "outputs": [
        {
          "output_type": "stream",
          "name": "stdout",
          "text": [
            "Collecting openai\n",
            "  Downloading openai-1.13.3-py3-none-any.whl (227 kB)\n",
            "\u001b[?25l     \u001b[90m━━━━━━━━━━━━━━━━━━━━━━━━━━━━━━━━━━━━━━━━\u001b[0m \u001b[32m0.0/227.4 kB\u001b[0m \u001b[31m?\u001b[0m eta \u001b[36m-:--:--\u001b[0m\r\u001b[2K     \u001b[91m━━━━━━━━━━━━━━━━━━━━━━━━━━━━━━\u001b[0m\u001b[91m╸\u001b[0m\u001b[90m━━━━━━━━━\u001b[0m \u001b[32m174.1/227.4 kB\u001b[0m \u001b[31m5.1 MB/s\u001b[0m eta \u001b[36m0:00:01\u001b[0m\r\u001b[2K     \u001b[90m━━━━━━━━━━━━━━━━━━━━━━━━━━━━━━━━━━━━━━━━\u001b[0m \u001b[32m227.4/227.4 kB\u001b[0m \u001b[31m4.8 MB/s\u001b[0m eta \u001b[36m0:00:00\u001b[0m\n",
            "\u001b[?25hRequirement already satisfied: anyio<5,>=3.5.0 in /usr/local/lib/python3.10/dist-packages (from openai) (3.7.1)\n",
            "Requirement already satisfied: distro<2,>=1.7.0 in /usr/lib/python3/dist-packages (from openai) (1.7.0)\n",
            "Collecting httpx<1,>=0.23.0 (from openai)\n",
            "  Downloading httpx-0.27.0-py3-none-any.whl (75 kB)\n",
            "\u001b[2K     \u001b[90m━━━━━━━━━━━━━━━━━━━━━━━━━━━━━━━━━━━━━━━━\u001b[0m \u001b[32m75.6/75.6 kB\u001b[0m \u001b[31m10.7 MB/s\u001b[0m eta \u001b[36m0:00:00\u001b[0m\n",
            "\u001b[?25hRequirement already satisfied: pydantic<3,>=1.9.0 in /usr/local/lib/python3.10/dist-packages (from openai) (2.6.3)\n",
            "Requirement already satisfied: sniffio in /usr/local/lib/python3.10/dist-packages (from openai) (1.3.1)\n",
            "Requirement already satisfied: tqdm>4 in /usr/local/lib/python3.10/dist-packages (from openai) (4.66.2)\n",
            "Requirement already satisfied: typing-extensions<5,>=4.7 in /usr/local/lib/python3.10/dist-packages (from openai) (4.10.0)\n",
            "Requirement already satisfied: idna>=2.8 in /usr/local/lib/python3.10/dist-packages (from anyio<5,>=3.5.0->openai) (3.6)\n",
            "Requirement already satisfied: exceptiongroup in /usr/local/lib/python3.10/dist-packages (from anyio<5,>=3.5.0->openai) (1.2.0)\n",
            "Requirement already satisfied: certifi in /usr/local/lib/python3.10/dist-packages (from httpx<1,>=0.23.0->openai) (2024.2.2)\n",
            "Collecting httpcore==1.* (from httpx<1,>=0.23.0->openai)\n",
            "  Downloading httpcore-1.0.4-py3-none-any.whl (77 kB)\n",
            "\u001b[2K     \u001b[90m━━━━━━━━━━━━━━━━━━━━━━━━━━━━━━━━━━━━━━━━\u001b[0m \u001b[32m77.8/77.8 kB\u001b[0m \u001b[31m7.1 MB/s\u001b[0m eta \u001b[36m0:00:00\u001b[0m\n",
            "\u001b[?25hCollecting h11<0.15,>=0.13 (from httpcore==1.*->httpx<1,>=0.23.0->openai)\n",
            "  Downloading h11-0.14.0-py3-none-any.whl (58 kB)\n",
            "\u001b[2K     \u001b[90m━━━━━━━━━━━━━━━━━━━━━━━━━━━━━━━━━━━━━━━━\u001b[0m \u001b[32m58.3/58.3 kB\u001b[0m \u001b[31m7.4 MB/s\u001b[0m eta \u001b[36m0:00:00\u001b[0m\n",
            "\u001b[?25hRequirement already satisfied: annotated-types>=0.4.0 in /usr/local/lib/python3.10/dist-packages (from pydantic<3,>=1.9.0->openai) (0.6.0)\n",
            "Requirement already satisfied: pydantic-core==2.16.3 in /usr/local/lib/python3.10/dist-packages (from pydantic<3,>=1.9.0->openai) (2.16.3)\n",
            "Installing collected packages: h11, httpcore, httpx, openai\n",
            "Successfully installed h11-0.14.0 httpcore-1.0.4 httpx-0.27.0 openai-1.13.3\n"
          ]
        }
      ],
      "source": [
        "!pip install openai"
      ]
    },
    {
      "cell_type": "code",
      "source": [
        "import openai\n",
        "import getpass\n",
        "# Prompt the user for the API key\n",
        "api_key = getpass.getpass(\"Enter your OpenAI API key: \")\n",
        "\n",
        "# Assign the API key to the OpenAI client\n",
        "openai.api_key = api_key"
      ],
      "metadata": {
        "id": "edLsI1pFlek8",
        "colab": {
          "base_uri": "https://localhost:8080/"
        },
        "outputId": "f7751b69-25d6-4f2e-e86c-1191fa9558b9"
      },
      "execution_count": 4,
      "outputs": [
        {
          "name": "stdout",
          "output_type": "stream",
          "text": [
            "Enter your OpenAI API key: ··········\n"
          ]
        }
      ]
    },
    {
      "cell_type": "code",
      "source": [
        "from openai import OpenAI"
      ],
      "metadata": {
        "id": "5La4MDEsLG_r"
      },
      "execution_count": 5,
      "outputs": []
    },
    {
      "cell_type": "code",
      "source": [
        "client = OpenAI(\n",
        "    # defaults to os.environ.get(\"OPENAI_API_KEY\")\n",
        "    api_key=api_key,\n",
        ")"
      ],
      "metadata": {
        "id": "tDCySdriK_rt"
      },
      "execution_count": 6,
      "outputs": []
    },
    {
      "cell_type": "code",
      "source": [
        "def generate(prompt):\n",
        "    \"\"\"\n",
        "    Initializes a chat with GPT-4 and sends a prompt to get a response.\n",
        "\n",
        "    Args:\n",
        "    prompt (str): The prompt or question to send to GPT-4.\n",
        "\n",
        "    Returns:\n",
        "    str: The content of GPT-4's response.\n",
        "    \"\"\"\n",
        "    try:\n",
        "        openai.api_key = api_key\n",
        "        completion = client.chat.completions.create(\n",
        "            model=\"gpt-4\",  # gpt-4\n",
        "            messages=[\n",
        "                {\n",
        "                    \"role\": \"user\",\n",
        "                    \"content\": prompt,\n",
        "                },\n",
        "            ],\n",
        "        )\n",
        "        return completion.choices[0].message.content\n",
        "    except Exception as e:\n",
        "        return str(e)"
      ],
      "metadata": {
        "id": "LWWx2sQzxZxU"
      },
      "execution_count": 11,
      "outputs": []
    },
    {
      "cell_type": "code",
      "source": [
        "def validate_weight(weight):\n",
        "    try:\n",
        "        weight = float(weight)\n",
        "        if weight <= 0:\n",
        "            raise ValueError\n",
        "    except ValueError:\n",
        "        return False\n",
        "    return True\n",
        "\n",
        "def get_gender_choice():\n",
        "    return {1: 'Male', 2: 'Female'}\n",
        "\n",
        "def get_dietary_restrictions():\n",
        "    return {\n",
        "        1: 'None',\n",
        "        2: 'Keto',\n",
        "        3: 'Vegan',\n",
        "        4: 'Vegetarian',\n",
        "        5: 'Gluten-Free',\n",
        "        6: 'Paleo',\n",
        "        7: 'Halal',\n",
        "        8: 'Other'\n",
        "    }\n",
        "\n",
        "def get_goal():\n",
        "    return {\n",
        "        1: 'Gain Weight',\n",
        "        2: 'Lose Weight',\n",
        "        3: 'Maintain Weight'\n",
        "    }\n",
        "\n",
        "def input_user_data():\n",
        "    weight = input(\"Enter your weight in lbs: \")\n",
        "    if not validate_weight(weight):\n",
        "        return \"Please enter a valid weight.\"\n",
        "\n",
        "    height = input(\"Enter your height in inches: \")\n",
        "    try:\n",
        "        height = int(height)\n",
        "        if height <= 0:\n",
        "            raise ValueError\n",
        "    except ValueError:\n",
        "        return \"Please enter a valid height.\"\n",
        "\n",
        "    age = input(\"Enter your age in years: \")\n",
        "    try:\n",
        "        age = int(age)\n",
        "        if age <= 0:\n",
        "            raise ValueError\n",
        "    except ValueError:\n",
        "        return \"Please enter a valid age.\"\n",
        "\n",
        "    gender_choice = get_gender_choice()\n",
        "    gender = input(f\"Enter your gender ({'/'.join([f'{k} for {v}' for k, v in gender_choice.items()])}): \")\n",
        "    if int(gender) not in gender_choice:\n",
        "        return \"Invalid gender selection.\"\n",
        "\n",
        "    activity_levels = {\n",
        "        1: 'Sedentary (little or no exercise)',\n",
        "        2: 'Lightly active (light exercise/sports 1-3 days/week)',\n",
        "        3: 'Moderately active (moderate exercise/sports 3-5 days/week)',\n",
        "        4: 'Very active (hard exercise/sports 6-7 days a week)',\n",
        "        5: 'Extra active (very hard exercise/sports & physical job or 2x training)'\n",
        "    }\n",
        "    activity_level = input(f\"Select your activity level ({'/'.join([f'{k} for {v}' for k, v in activity_levels.items()])}): \")\n",
        "    if int(activity_level) not in activity_levels:\n",
        "        return \"Invalid activity level selection.\"\n",
        "\n",
        "    dietary_restrictions = get_dietary_restrictions()\n",
        "    diet = input(f\"Select your dietary restriction ({'/'.join([f'{k} for {v}' for k, v in dietary_restrictions.items()])}): \")\n",
        "    if int(diet) not in dietary_restrictions:\n",
        "        return \"Invalid dietary restriction selection.\"\n",
        "    if int(diet) == 8:\n",
        "        other_diet = input(\"Please describe your dietary restriction: \")\n",
        "\n",
        "    goal_choice = get_goal()\n",
        "    goal = input(f\"What is your goal? ({'/'.join([f'{k} for {v}' for k, v in goal_choice.items()])}): \")\n",
        "    weight_goal = None\n",
        "    if int(goal) in [1, 2]:\n",
        "        weight_goal = input(\"Enter your weight goal in lbs (e.g., 5 for 5 lbs): \")\n",
        "        try:\n",
        "            weight_goal = float(weight_goal)\n",
        "            if weight_goal <= 0:\n",
        "                raise ValueError(\"Please enter a positive number.\")\n",
        "        except ValueError as e:\n",
        "            return str(e)\n",
        "\n",
        "    return {\n",
        "        \"weight\": float(weight),\n",
        "        \"height\": height,\n",
        "        \"age\": age,\n",
        "        \"gender\": gender_choice[int(gender)],\n",
        "        \"activity_level\": int(activity_level),\n",
        "        \"dietary_restriction\": dietary_restrictions[int(diet)] if int(diet) != 7 else other_diet,\n",
        "        \"goal\": goal_choice[int(goal)],\n",
        "        \"weight_goal\": weight_goal\n",
        "    }\n",
        "\n",
        "def calculate_daily_calories(user_data):\n",
        "    if user_data['gender'] == 'Male':\n",
        "        bmr = 10 * (user_data['weight'] / 2.2) + 6.25 * (user_data['height'] * 2.54) - 5 * user_data['age'] + 5\n",
        "    else:\n",
        "        bmr = 10 * (user_data['weight'] / 2.2) + 6.25 * (user_data['height'] * 2.54) - 5 * user_data['age'] - 161\n",
        "\n",
        "    activity_multiplier = [1.2, 1.375, 1.55, 1.725, 1.9][user_data['activity_level'] - 1]\n",
        "    daily_calories = bmr * activity_multiplier\n",
        "    print\n",
        "    return daily_calories"
      ],
      "metadata": {
        "id": "MecPqNzXQWUJ"
      },
      "execution_count": 23,
      "outputs": []
    },
    {
      "cell_type": "code",
      "source": [
        "def generate_recipe_descriptions(user_data):\n",
        "    prompt = (\n",
        "        f\"Based on the following user profile, generate five healthy and accessible meal \"\n",
        "        f\"recipes that align with their dietary restriction ({user_data['dietary_restriction']}), \"\n",
        "        f\"goal ({user_data['goal']}), and daily calorie intake ({calculate_daily_calories(user_data)} calories): \"\n",
        "        f\"\\n\\nUser Profile:\\n\"\n",
        "        f\"- Weight: {user_data['weight']} lbs\\n\"\n",
        "        f\"- Height: {user_data['height']} inches\\n\"\n",
        "        f\"- Age: {user_data['age']}\\n\"\n",
        "        f\"- Gender: {user_data['gender']}\\n\"\n",
        "        f\"- Activity Level: {user_data['activity_level']}\\n\"\n",
        "        f\"- Dietary Restriction: {user_data['dietary_restriction']}\\n\"\n",
        "        f\"- Goal: {user_data['goal']}\\n\"\n",
        "        f\"- Daily Calorie Intake: {calculate_daily_calories(user_data)} calories\\n\\n\"\n",
        "          f\"Each recipe description should just be a brief description.\"\n",
        "    )\n",
        "    return generate(prompt)\n"
      ],
      "metadata": {
        "id": "l6y8PYIRmwe-"
      },
      "execution_count": 25,
      "outputs": []
    },
    {
      "cell_type": "code",
      "source": [
        "def generate_detailed_recipe(user_data, selected_recipe):\n",
        "    prompt = (\n",
        "        f\"Write a detailed recipe for '{selected_recipe}' suitable for someone with the following profile \"\n",
        "        f\"and goals. The recipe should align with their dietary restriction ({user_data['dietary_restriction']}), \"\n",
        "        f\"goal ({user_data['goal']}), and should fit into their daily calorie intake ({calculate_daily_calories(user_data)} calories). \"\n",
        "        f\"Include step-by-step instructions, serving size, and nutritional information per serving.\\n\\n\"\n",
        "        f\"User Profile:\\n\"\n",
        "        f\"- Dietary Restriction: {user_data['dietary_restriction']}\\n\"\n",
        "        f\"- Goal: {user_data['goal']}\\n\"\n",
        "        f\"- Daily Calorie Intake: {calculate_daily_calories(user_data)} calories\"\n",
        "    )\n",
        "    return generate(prompt)\n"
      ],
      "metadata": {
        "id": "9xSKzYn1YD6Y"
      },
      "execution_count": 26,
      "outputs": []
    },
    {
      "cell_type": "code",
      "source": [
        "# cook time\n",
        "# input ingredients you have\n",
        "# shopping list"
      ],
      "metadata": {
        "id": "QTNGi3WlYkb7"
      },
      "execution_count": null,
      "outputs": []
    },
    {
      "cell_type": "code",
      "source": [
        "def generate_grocery_list(ingredients_on_hand, detailed_recipe):\n",
        "    prompt = (\n",
        "        f\"Given that the user already has the following ingredients at home: {', '.join(ingredients_on_hand)}, \"\n",
        "        f\"and based on the detailed recipe below, generate a grocery list for the remaining ingredients needed.\\n\\n\"\n",
        "        f\"Detailed Recipe:\\n{detailed_recipe}\\n\\n\"\n",
        "        f\"List only the ingredients that are not already present in the user's kitchen.\"\n",
        "    )\n",
        "    return generate(prompt)\n"
      ],
      "metadata": {
        "id": "-d-eVBt3lxHS"
      },
      "execution_count": 27,
      "outputs": []
    },
    {
      "cell_type": "code",
      "source": [
        "def main():\n",
        "    user_data = input_user_data()\n",
        "    if isinstance(user_data, str):\n",
        "        print(user_data)\n",
        "        return\n",
        "\n",
        "    print(\"User data collected successfully:\", user_data)\n",
        "\n",
        "    recipe_descriptions_prompt = generate_recipe_descriptions(user_data)\n",
        "    print(\"\\nFetching recipe suggestions...\\n\")\n",
        "    recipe_descriptions_response = generate(recipe_descriptions_prompt)\n",
        "    recipe_descriptions = recipe_descriptions_response.split('\\n')\n",
        "    print(\"\\n\".join(recipe_descriptions))\n",
        "\n",
        "    selected_recipe_index = input(\"\\nPlease select one of the above recipes by number (1-5): \")\n",
        "    try:\n",
        "        selected_recipe_index = int(selected_recipe_index) - 1\n",
        "        if selected_recipe_index not in range(len(recipe_descriptions)):\n",
        "            raise ValueError\n",
        "    except ValueError:\n",
        "        print(\"Invalid selection. Please enter a number between 1 and 5.\")\n",
        "        return\n",
        "\n",
        "    selected_recipe = recipe_descriptions[selected_recipe_index]\n",
        "    print(f\"\\nYou selected: {selected_recipe}\\n\")\n",
        "\n",
        "    detailed_recipe_prompt = generate_detailed_recipe(user_data, selected_recipe)\n",
        "    print(\"\\nGenerating detailed recipe...\\n\")\n",
        "    detailed_recipe_response = generate(detailed_recipe_prompt)\n",
        "    detailed_recipe = detailed_recipe_response.strip()\n",
        "    print(detailed_recipe)\n",
        "\n",
        "    ingredients_on_hand = input(\"\\nEnter the ingredients you already have, separated by commas: \").split(',')\n",
        "    ingredients_on_hand = [ingredient.strip() for ingredient in ingredients_on_hand]\n",
        "\n",
        "    grocery_list_prompt = generate_grocery_list(ingredients_on_hand, detailed_recipe)\n",
        "    print(\"\\nGenerating grocery list...\\n\")\n",
        "    grocery_list_response = generate(grocery_list_prompt)\n",
        "    grocery_list = grocery_list_response.strip()\n",
        "    print(grocery_list)\n"
      ],
      "metadata": {
        "id": "iQ9cMa8Ab7bG"
      },
      "execution_count": 36,
      "outputs": []
    },
    {
      "cell_type": "markdown",
      "source": [],
      "metadata": {
        "id": "XSRHSleUchra"
      }
    },
    {
      "cell_type": "code",
      "source": [
        "main()"
      ],
      "metadata": {
        "colab": {
          "base_uri": "https://localhost:8080/"
        },
        "id": "mRdO_CG4cXVk",
        "outputId": "59e59348-6f5e-4215-96f0-dbdd89547448"
      },
      "execution_count": 37,
      "outputs": [
        {
          "output_type": "stream",
          "name": "stdout",
          "text": [
            "Enter your weight in lbs: 120\n",
            "Enter your height in inches: 66\n",
            "Enter your age in years: 20\n",
            "Enter your gender (1 for Male/2 for Female): 2\n",
            "Select your activity level (1 for Sedentary (little or no exercise)/2 for Lightly active (light exercise/sports 1-3 days/week)/3 for Moderately active (moderate exercise/sports 3-5 days/week)/4 for Very active (hard exercise/sports 6-7 days a week)/5 for Extra active (very hard exercise/sports & physical job or 2x training)): 2\n",
            "Select your dietary restriction (1 for Keto/2 for Halal/3 for Vegan/4 for Vegetarian/5 for Gluten-Free/6 for Paleo/7 for Other): 1\n",
            "What is your goal? (1 for Gain Weight/2 for Lose Weight/3 for Maintain Weight): 2\n",
            "Enter your weight goal in lbs (e.g., 5 for 5 lbs): 5\n",
            "User data collected successfully: {'weight': 120.0, 'height': 66, 'age': 20, 'gender': 'Female', 'activity_level': 2, 'dietary_restriction': 'Keto', 'goal': 'Lose Weight', 'weight_goal': 5.0}\n",
            "\n",
            "Fetching recipe suggestions...\n",
            "\n",
            "6. Recipe: Keto Broccoli Cheese Soup\n",
            "   Ingredients: 2 cups of broccoli florets, 1 cup of heavy cream, 2 cups of chicken broth, 1 cup of cheddar cheese, salt, and pepper.\n",
            "   Preparation: Cook the broccoli in the chicken broth until soft. Add the heavy cream and cheddar cheese, stir until the cheese melts and the soup thickens. Season with salt and pepper. This rich and creamy soup is perfect for a ketogenic diet and is very filling.\n",
            "\n",
            "7. Recipe: Keto Beef & Mushroom Skillet\n",
            "   Ingredients: 4 oz of ground beef, a cup of fresh mushrooms, half an onion, olive oil, salt, and pepper.\n",
            "   Preparation: Sauté the onions and mushrooms in olive oil until browned. Add the ground beef and brown it, breaking it apart as it cooks. Season with salt and pepper. This dish is a high-protein and high-fat meal, perfect for staying in ketosis.\n",
            "\n",
            "8. Recipe: Keto-friendly Cauliflower Pizza\n",
            "   Ingredients: One medium cauliflower, 4 tbsp of cream cheese, a cup of mozzarella cheese, an egg, a cup of tomato sauce, and your favorite pizza toppings.\n",
            "   Preparation: Process the cauliflower until it has a rice-like consistency. Microwave it for 4-5 minutes then squeeze out the excess moisture. Mix with cream cheese, egg, and mozzarella. Press the dough onto a baking sheet and bake for 15 minutes. Top with sauce, cheese, and your favorite toppings and bake again until the cheese is bubbly and browned. This is a fun and delicious twist on a traditional pizza and it's perfect for a keto diet.\n",
            "\n",
            "9. Recipe: Keto Chicken Avocado Salad\n",
            "   Ingredients: 4 oz of grilled chicken breast, one whole avocado, a handful of lettuce, olive oil, lemon juice, salt, and pepper.\n",
            "   Preparation: Slice the grilled chicken and avocado into small pieces. Toss with the lettuce and dress with olive oil, lemon juice, salt, and pepper. This protein-rich salad is filled with healthy fats, perfect for a ketogenic diet.\n",
            "\n",
            "10. Recipe: Keto-friendly Egg Roll in a Bowl\n",
            "    Ingredients: 4 oz of ground pork, half a cabbage, spring onions, sesame oil, soy sauce (sugar free), salt, and pepper.\n",
            "    Preparation: Sauté the ground pork in sesame oil until it's fully cooked. Add the sliced cabbage and stir-fry until it's tender. Finish with spring onions and soy sauce. This meal is a deconstructed version of a classic egg roll without the carbs. It's a hearty, filling, and ketogenic-friendly meal.\n",
            "\n",
            "Please select one of the above recipes by number (1-5): 3\n",
            "\n",
            "You selected:    Preparation: Cook the broccoli in the chicken broth until soft. Add the heavy cream and cheddar cheese, stir until the cheese melts and the soup thickens. Season with salt and pepper. This rich and creamy soup is perfect for a ketogenic diet and is very filling.\n",
            "\n",
            "\n",
            "Generating detailed recipe...\n",
            "\n",
            "Notes:\n",
            "- You can use vegetable broth as a substitute for chicken broth if you are a vegetarian or simply prefer the taste.\n",
            "- You can also switch the fresh broccoli for frozen if that's what you have on hand, but keep in mind that cooking times might vary.\n",
            "- Choose a good quality cheddar cheese as it will greatly influence the taste of the soup.\n",
            "- If you prefer a smoother texture for your soup, you can use an immersion blender to puree the soup before adding the cheese. \n",
            "- For an extra kick of flavor, try adding some garlic, onion, or your favourite herbs and spices.\n",
            "- You can garnish the soup with extra cheese, bacon bits, or some chopped fresh herbs if you like.\n",
            "\n",
            "Enter the ingredients you already have, separated by commas: chicken, salt\n",
            "\n",
            "Generating grocery list...\n",
            "\n",
            "You seem to be aiming to make some sort of Broccoli Cheese Soup. Here's a simple recipe you could try!\n",
            "\n",
            "Ingredients:\n",
            "- 1 lb fresh or frozen broccoli\n",
            "- 1 cup grated cheddar cheese\n",
            "- 4 cups of vegetable broth or chicken broth\n",
            "- 1 onion, diced\n",
            "- 4 cloves of garlic, minced\n",
            "- Salt, pepper, and other herbs and spices to taste \n",
            "- Crispy bacon bits for garnishing (optional)\n",
            "- Chopped fresh herbs (like parsley or thyme) for garnishing (optional)\n",
            "\n",
            "Instructions:\n",
            "1. In a large pot, sauté the diced onions in a little bit of oil until they are softened and translucent.\n",
            "2. Add your minced garlic to the pot and sauté until fragrant – don't let the garlic burn!\n",
            "3. Add the broccoli into the pot. If using fresh broccoli, chop it into bite-sized pieces first. Sauté it with the onions and garlic for a couple of minutes.\n",
            "4. Pour in your broth. Bring the mixture to a boil, then reduce the heat and let it simmer until the broccoli is cooked and tender.\n",
            "5. Use an immersion blender to puree the soup. If you do not have an immersion blender, carefully transfer the soup to a traditional blender - you may need to blend it in batches. Blend until smooth or leave it a little chunky if you prefer.\n",
            "6. Once the soup is pureed, return it to the pot (If you used a traditional blender) and bring it back to a gentle simmer. Add your grated cheddar cheese and stir until it's well incorporated and melted into the soup.\n",
            "7. Season with salt, pepper, and other preferred herbs and spices.\n",
            "8. Once the soup has heated through, serve it in bowls. Garnish with crispy bacon bits and/or fresh herbs if you like. Enjoy your homemade broccoli cheese soup! \n",
            "\n",
            "Remember to adjust the recipe according to your personal preference, and keep an eye on your soup to make sure it doesn't burn or stick to the bottom of the pot. Enjoy cooking!\n"
          ]
        }
      ]
    }
  ]
}